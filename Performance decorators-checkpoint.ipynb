{
 "cells": [
  {
   "cell_type": "code",
   "execution_count": 7,
   "id": "67680e2f",
   "metadata": {},
   "outputs": [
    {
     "name": "stdout",
     "output_type": "stream",
     "text": [
      "it took 0.0009989738464355469 s to process\n"
     ]
    }
   ],
   "source": [
    "from time import time\n",
    "\n",
    "def performance(func):\n",
    "    def wrap_func(*args, **kwargs):\n",
    "        initial = time()\n",
    "        result = func(*args, **kwargs)\n",
    "        final = time()\n",
    "        print(f\"it took {final-initial} s to process\")\n",
    "        return result\n",
    "    return wrap_func\n",
    "\n",
    "@performance\n",
    "def calc():\n",
    "    for i in range(1,10000):\n",
    "         i*5\n",
    "    \n",
    "calc()"
   ]
  },
  {
   "cell_type": "code",
   "execution_count": null,
   "id": "dd468624",
   "metadata": {},
   "outputs": [],
   "source": []
  }
 ],
 "metadata": {
  "kernelspec": {
   "display_name": "Python 3 (ipykernel)",
   "language": "python",
   "name": "python3"
  },
  "language_info": {
   "codemirror_mode": {
    "name": "ipython",
    "version": 3
   },
   "file_extension": ".py",
   "mimetype": "text/x-python",
   "name": "python",
   "nbconvert_exporter": "python",
   "pygments_lexer": "ipython3",
   "version": "3.8.3"
  }
 },
 "nbformat": 4,
 "nbformat_minor": 5
}
